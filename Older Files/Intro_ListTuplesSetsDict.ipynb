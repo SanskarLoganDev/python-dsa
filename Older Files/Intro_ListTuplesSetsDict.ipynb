{
 "cells": [
  {
   "cell_type": "code",
   "execution_count": 1,
   "id": "7b5f0c46",
   "metadata": {},
   "outputs": [],
   "source": [
    "#Lists, Tuples, and Sets"
   ]
  },
  {
   "cell_type": "code",
   "execution_count": 2,
   "id": "42bc6ff0",
   "metadata": {},
   "outputs": [
    {
     "name": "stdout",
     "output_type": "stream",
     "text": [
      "['History', 'Maths', 'Physics', 'Hindi', 'CSE']\n",
      "5\n",
      "History\n",
      "['History', 'Maths']\n",
      "CSE\n",
      "['Physics', 'Hindi', 'CSE']\n"
     ]
    }
   ],
   "source": [
    "# LISTS\n",
    "courses = ['History', 'Maths', 'Physics', 'Hindi', 'CSE']\n",
    "print(courses)\n",
    "print(len(courses))\n",
    "print(courses[0])\n",
    "print(courses[0:2]) # does not include last element\n",
    "print(courses[-1])\n",
    "print(courses[2:])\n"
   ]
  },
  {
   "cell_type": "code",
   "execution_count": 3,
   "id": "ca15d02f",
   "metadata": {},
   "outputs": [
    {
     "name": "stdout",
     "output_type": "stream",
     "text": [
      "['History', 'Maths', 'Physics', 'Polity', 'Hindi', 'CSE', 'Art', 'English', 'Economics']\n"
     ]
    }
   ],
   "source": [
    "courses.append('Art')\n",
    "courses.insert(3,'Polity')\n",
    "course2 = ['English', 'Economics']\n",
    "courses.extend(course2) # if we used .append or .insert then it would have added english and economics in a nested list format\n",
    "print(courses)"
   ]
  },
  {
   "cell_type": "code",
   "execution_count": 1,
   "id": "b33e3667",
   "metadata": {},
   "outputs": [
    {
     "name": "stdout",
     "output_type": "stream",
     "text": [
      "['History', 'Physics', 'Hindi', 'CSE']\n",
      "CSE\n",
      "['History', 'Physics', 'Hindi']\n"
     ]
    }
   ],
   "source": [
    "courses3 = ['History', 'Maths', 'Physics', 'Hindi', 'CSE']\n",
    "courses3.remove('Maths')\n",
    "print(courses3)\n",
    "popped = courses3.pop()\n",
    "print(popped)\n",
    "print(courses3)"
   ]
  },
  {
   "cell_type": "code",
   "execution_count": 5,
   "id": "5a4a3fdc",
   "metadata": {},
   "outputs": [
    {
     "name": "stdout",
     "output_type": "stream",
     "text": [
      "['CSE', 'Hindi', 'History', 'Maths', 'Physics']\n",
      "[1, 3, 4, 67, 90]\n",
      "['Physics', 'Maths', 'History', 'Hindi', 'CSE']\n"
     ]
    }
   ],
   "source": [
    "# Sorting lists\n",
    "courses = ['History', 'Maths', 'Physics', 'Hindi', 'CSE']\n",
    "numlist = [1,4,67,3,90]\n",
    "courses.sort()\n",
    "numlist.sort()\n",
    "print(courses)\n",
    "print(numlist)\n",
    "courses.sort(reverse=True)\n",
    "print(courses)"
   ]
  },
  {
   "cell_type": "code",
   "execution_count": 10,
   "id": "2c309093",
   "metadata": {},
   "outputs": [
    {
     "name": "stdout",
     "output_type": "stream",
     "text": [
      "['History', 'Maths', 'Physics', 'Hindi', 'CSE']\n",
      "['Physics', 'Maths', 'History', 'Hindi', 'CSE']\n",
      "90\n",
      "1\n",
      "165\n"
     ]
    }
   ],
   "source": [
    "courses = ['History', 'Maths', 'Physics', 'Hindi', 'CSE']\n",
    "numlist = [1,4,67,3,90]\n",
    "sortcourse = sorted(courses, reverse=True)\n",
    "print(courses)\n",
    "print(sortcourse)\n",
    "print(max(numlist))\n",
    "print(min(numlist))\n",
    "print(sum(numlist))"
   ]
  },
  {
   "cell_type": "code",
   "execution_count": 20,
   "id": "d8bad9df",
   "metadata": {},
   "outputs": [
    {
     "name": "stdout",
     "output_type": "stream",
     "text": [
      "1\n",
      "True\n",
      "History\n",
      "Maths\n",
      "Physics\n",
      "Hindi\n",
      "CSE\n",
      "1 History\n",
      "2 Maths\n",
      "3 Physics\n",
      "4 Hindi\n",
      "5 CSE\n",
      "History, Maths, Physics, Hindi, CSE\n",
      "['History', 'Maths', 'Physics', 'Hindi', 'CSE']\n"
     ]
    }
   ],
   "source": [
    "courses = ['History', 'Maths', 'Physics', 'Hindi', 'CSE']\n",
    "print(courses.index('Maths'))\n",
    "print('CSE'  in courses)\n",
    "for course in courses:\n",
    "    print(course)\n",
    "for index,course in enumerate(courses, start=1):\n",
    "    print(index, course)\n",
    "\n",
    "csr_str = ', '.join(courses) # converts a list to a string\n",
    "print(csr_str)\n",
    "nlist = csr_str.split(', ') # slits and converts a string to a list\n",
    "print(nlist)"
   ]
  },
  {
   "cell_type": "code",
   "execution_count": 22,
   "id": "99742139",
   "metadata": {},
   "outputs": [
    {
     "name": "stdout",
     "output_type": "stream",
     "text": [
      "['Art', 'Maths', 'Physics', 'Hindi', 'CSE']\n",
      "['Art', 'Maths', 'Physics', 'Hindi', 'CSE']\n"
     ]
    }
   ],
   "source": [
    "#tuple example\n",
    "list1 = ['History', 'Maths', 'Physics', 'Hindi', 'CSE']\n",
    "list2 = list1\n",
    "\n",
    "list1[0]='Art' #replacing a value (lists are mutable)\n",
    "print(list1)\n",
    "print(list2)\n"
   ]
  },
  {
   "cell_type": "code",
   "execution_count": 24,
   "id": "24997737",
   "metadata": {},
   "outputs": [],
   "source": [
    "tuple1 = ('History', 'Maths', 'Physics', 'Hindi', 'CSE')\n",
    "#tuple1[0]='Art' # gives error as tuple is immuatble "
   ]
  },
  {
   "cell_type": "code",
   "execution_count": 29,
   "id": "e962ee0d",
   "metadata": {},
   "outputs": [
    {
     "name": "stdout",
     "output_type": "stream",
     "text": [
      "{'Physics', 'Hindi', 'Maths', 'History', 'CSE'}\n",
      "{'Hindi', 'History', 'Chemistry', 'Polity', 'Physics', 'Maths', 'CSE', 'Art'}\n",
      "{'Maths', 'History', 'Hindi'}\n",
      "{'CSE', 'Physics'}\n",
      "<class 'set'>\n"
     ]
    }
   ],
   "source": [
    "# Sets (they're unique but unordered)\n",
    "\n",
    "Set1 = {'History', 'Maths', 'Physics', 'Hindi', 'CSE'}\n",
    "Set2 = {'Art', 'Polity', 'Chemistry', 'Physics', 'CSE'}\n",
    "print(Set1)\n",
    "print(Set1.union(Set2)) # all elements\n",
    "print(Set1.difference(Set2)) # elements in set1 that are not in set2\n",
    "print(Set1.intersection(Set2)) # common elements\n",
    "print(type(Set1))"
   ]
  },
  {
   "cell_type": "code",
   "execution_count": 27,
   "id": "fb6a88a9",
   "metadata": {},
   "outputs": [],
   "source": [
    "# Empty lists, tuples and Sets\n",
    "\n",
    "# Empty Lists\n",
    "empty_list = []\n",
    "empty_list = list()\n",
    "\n",
    "# Empty Tuples\n",
    "empty_tuple = ()\n",
    "empty_tuple = tuple()\n",
    "\n",
    "# Empty Sets\n",
    "empty_set = {} # This isn't right! It's a dict\n",
    "empty_set = set()"
   ]
  },
  {
   "cell_type": "code",
   "execution_count": 3,
   "id": "7a0a8656",
   "metadata": {},
   "outputs": [
    {
     "name": "stdout",
     "output_type": "stream",
     "text": [
      "{'name': 'Logan', 'age': 23, 'courses': ['Physics', 'Maths']}\n",
      "3\n",
      "dict_keys(['name', 'age', 'courses'])\n",
      "dict_values(['Logan', 23, ['Physics', 'Maths']])\n",
      "dict_items([('name', 'Logan'), ('age', 23), ('courses', ['Physics', 'Maths'])])\n",
      "Logan\n",
      "Not found\n",
      "{'name': 'Logan', 'age': 23, 'courses': ['Physics', 'Maths'], 'phone': 7776666}\n",
      "{'name': 'James', 'age': 23, 'courses': ['Physics', 'Maths'], 'phone': 7776666}\n",
      "23\n",
      "<class 'dict'>\n"
     ]
    }
   ],
   "source": [
    "# Dictionary\n",
    "\n",
    "student = {'name':'Logan', 'age':23 , 'courses':['Physics','Maths']} # integer can also be keys\n",
    "print(student)\n",
    "print(len(student))\n",
    "print(student.keys())\n",
    "print(student.values())\n",
    "print(student.items())\n",
    "print(student['name'])\n",
    "# print(student['gender']) --> gives an error\n",
    "print(student.get('gender','Not found')) # get gives none or the entered error statement\n",
    "student['phone']=7776666\n",
    "print(student)\n",
    "student['name']='James'\n",
    "print(student)\n",
    "# del student(age) --> to delete key age and its value\n",
    "age = student.pop('age')\n",
    "print(age)\n",
    "print(type(student))"
   ]
  },
  {
   "cell_type": "code",
   "execution_count": 39,
   "id": "c469f6f1",
   "metadata": {},
   "outputs": [
    {
     "name": "stdout",
     "output_type": "stream",
     "text": [
      "name\n",
      "courses\n",
      "phone\n",
      "('name', 'James')\n",
      "('courses', ['Physics', 'Maths'])\n",
      "('phone', 7776666)\n",
      "name James\n",
      "courses ['Physics', 'Maths']\n",
      "phone 7776666\n"
     ]
    }
   ],
   "source": [
    "for key in student:\n",
    "    print(key)\n",
    "    \n",
    "for key in student.items():\n",
    "    print(key)\n",
    "    \n",
    "for key, value in student.items():\n",
    "    print(key,value)"
   ]
  },
  {
   "cell_type": "code",
   "execution_count": 1,
   "id": "72c12ada",
   "metadata": {},
   "outputs": [
    {
     "name": "stdout",
     "output_type": "stream",
     "text": [
      "['CSE', 'Hindi', 'History', 'Maths', 'Physics']\n",
      "['Chemistry', 'English', 'History', 'Maths', 'Physics']\n",
      "['Course', 'age', 'name']\n"
     ]
    }
   ],
   "source": [
    "# Sorting advanced\n",
    "list1 = ['History', 'Maths', 'Physics', 'Hindi', 'CSE']\n",
    "list1.sort() # or new_list = sorted(list1)\n",
    "print(list1)\n",
    "# tuples and dictionary dont have .sort() function\n",
    "tup = ('History', 'Maths', 'Physics','Chemistry', 'English')\n",
    "tup1 = sorted(tup)\n",
    "print(tup1)\n",
    "dic = {'name': 'Logan', 'age':45 , 'Course':'CSE'}\n",
    "new_dic=sorted(dic)\n",
    "print(new_dic)"
   ]
  },
  {
   "cell_type": "code",
   "execution_count": 7,
   "id": "feb0de1f",
   "metadata": {},
   "outputs": [
    {
     "name": "stdout",
     "output_type": "stream",
     "text": [
      "[1, 2, 3, -4, -5, -6]\n"
     ]
    }
   ],
   "source": [
    "li = [1,2,3,-4,-5,-6] # key parameter is useful for sorting when having a class and functions with multiple parameters\n",
    "sort_li = sorted(li, key = abs)\n",
    "print(sort_li)"
   ]
  },
  {
   "cell_type": "code",
   "execution_count": 2,
   "id": "a9fd18bd",
   "metadata": {},
   "outputs": [
    {
     "ename": "TypeError",
     "evalue": "list indices must be integers or slices, not str",
     "output_type": "error",
     "traceback": [
      "\u001b[1;31m---------------------------------------------------------------------------\u001b[0m",
      "\u001b[1;31mTypeError\u001b[0m                                 Traceback (most recent call last)",
      "Cell \u001b[1;32mIn[2], line 1\u001b[0m\n\u001b[1;32m----> 1\u001b[0m list1[\u001b[38;5;124m\"\u001b[39m\u001b[38;5;124mHistory\u001b[39m\u001b[38;5;124m\"\u001b[39m]\u001b[38;5;241m=\u001b[39m\u001b[38;5;124m\"\u001b[39m\u001b[38;5;124mHello\u001b[39m\u001b[38;5;124m\"\u001b[39m\n",
      "\u001b[1;31mTypeError\u001b[0m: list indices must be integers or slices, not str"
     ]
    }
   ],
   "source": [
    "list1[\"History\"]=\"Hello\""
   ]
  },
  {
   "cell_type": "code",
   "execution_count": null,
   "id": "8e3d9783",
   "metadata": {},
   "outputs": [],
   "source": []
  }
 ],
 "metadata": {
  "kernelspec": {
   "display_name": "Python 3 (ipykernel)",
   "language": "python",
   "name": "python3"
  },
  "language_info": {
   "codemirror_mode": {
    "name": "ipython",
    "version": 3
   },
   "file_extension": ".py",
   "mimetype": "text/x-python",
   "name": "python",
   "nbconvert_exporter": "python",
   "pygments_lexer": "ipython3",
   "version": "3.9.12"
  }
 },
 "nbformat": 4,
 "nbformat_minor": 5
}
