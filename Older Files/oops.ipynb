{
 "cells": [
  {
   "cell_type": "code",
   "execution_count": 1,
   "id": "14166b22",
   "metadata": {},
   "outputs": [
    {
     "name": "stdout",
     "output_type": "stream",
     "text": [
      "James\n",
      "Geralt.Rivia@gmail.com\n",
      "101\n",
      "Geralt Rivia\n",
      "Geralt Rivia\n"
     ]
    }
   ],
   "source": [
    "class Employee:\n",
    "    # pass to leave it empty for the time being\n",
    "    def __init__(self,first,last,pay): # __init__ is similar to constructor in java\n",
    "        self.f=first # by convention we usually use self.first=first\n",
    "        self.l=last\n",
    "        self.p=pay\n",
    "        self.e= first+'.'+last+'@gmail.com'\n",
    "        \n",
    "    def addition(self,a,b): # we have to expect the instance argument in our method\n",
    "        return a+b\n",
    "    def fullname(self):\n",
    "        return self.f+' '+self.l\n",
    "    \n",
    "emp1 = Employee('James','Logan',65000)\n",
    "emp2 = Employee('Geralt','Rivia',5000)\n",
    "\n",
    "\n",
    "print(emp1.f)\n",
    "print(emp2.e)\n",
    "print(emp1.addition(45,56))\n",
    "print(emp2.fullname()) # no need to pass instance\n",
    "print(Employee.fullname(emp2)) # need to pass instance"
   ]
  },
  {
   "cell_type": "code",
   "execution_count": null,
   "id": "42d34420",
   "metadata": {},
   "outputs": [],
   "source": [
    "# Ineffiecent method\n",
    "# =============================================================================\n",
    "# print(emp1)\n",
    "# print(emp2)\n",
    "# # instance variables -> unique to each instance ex: each employee has different instance variable\n",
    "# emp1.first='James'\n",
    "# emp1.last='Logan'\n",
    "# emp1.email='James.Logan@gmail.com'\n",
    "# emp1.pay=65000\n",
    "#  \n",
    "# emp2.first='Geralt'\n",
    "# emp2.last='Rivia'\n",
    "# emp2.email='Geralt.Rivia@gmail.com'\n",
    "# emp2.pay=5000\n",
    "#  \n",
    "# print(emp1.email)\n",
    "# print(emp2.email)\n",
    "# ============================================================================="
   ]
  },
  {
   "cell_type": "code",
   "execution_count": 1,
   "id": "03c11c92",
   "metadata": {},
   "outputs": [
    {
     "name": "stdout",
     "output_type": "stream",
     "text": [
      "1.05\n",
      "1.05\n",
      "1.05\n",
      "\n",
      "\n",
      "1.04\n",
      "1.05\n",
      "1.05\n"
     ]
    }
   ],
   "source": [
    "class Employee:\n",
    "    raise_amnt=1.04 # class variable\n",
    "    def __init__(self,first,last,pay):\n",
    "        self.first = first\n",
    "        self.last =last\n",
    "        self.pay=pay\n",
    "        self.email= first+'.'+last+'@gmail.com'\n",
    "        \n",
    "    def addition(self,a,b): # we have to expect the instance argument in our method\n",
    "        return a+b\n",
    "    def fullname(self):\n",
    "        return self.first+' '+self.last\n",
    "   \n",
    "    def apply_raise(self):\n",
    "        self.pay=int(self.pay * Employee.raise_amnt)\n",
    "        # self.pay=int(self.pay * self.raise_amnt)\n",
    "        \n",
    "emp1 = Employee('James','Logan',65000)\n",
    "emp2 = Employee('Geralt','Rivia',5000)\n",
    "\n",
    "# =============================================================================\n",
    "# print(emp1.__dict__ ) # gives information in the form of dictionary\n",
    "# print(Employee.__dict__)\n",
    "# =============================================================================\n",
    "Employee.raise_amnt=1.05\n",
    "print(emp1.raise_amnt)\n",
    "print(Employee.raise_amnt)\n",
    "print(emp2.raise_amnt)\n",
    "print('\\n')\n",
    "emp1.raise_amnt=1.04\n",
    "print(emp1.raise_amnt)\n",
    "print(Employee.raise_amnt)\n",
    "print(emp2.raise_amnt)"
   ]
  },
  {
   "cell_type": "code",
   "execution_count": null,
   "id": "66b463ae",
   "metadata": {},
   "outputs": [],
   "source": [
    "# class methods and static methods\n"
   ]
  }
 ],
 "metadata": {
  "kernelspec": {
   "display_name": "Python 3 (ipykernel)",
   "language": "python",
   "name": "python3"
  },
  "language_info": {
   "codemirror_mode": {
    "name": "ipython",
    "version": 3
   },
   "file_extension": ".py",
   "mimetype": "text/x-python",
   "name": "python",
   "nbconvert_exporter": "python",
   "pygments_lexer": "ipython3",
   "version": "3.9.12"
  }
 },
 "nbformat": 4,
 "nbformat_minor": 5
}
