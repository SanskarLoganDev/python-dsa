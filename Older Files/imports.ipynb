{
 "cells": [
  {
   "cell_type": "code",
   "execution_count": 1,
   "id": "7471a72f",
   "metadata": {},
   "outputs": [
    {
     "name": "stdout",
     "output_type": "stream",
     "text": [
      "Module has been imported\n",
      "4\n"
     ]
    }
   ],
   "source": [
    "import my_module as mm\n",
    "courses = ['History', 'Maths', 'Physics', 'Hindi', 'CSE']\n",
    "index = mm.search(courses,'CSE')\n",
    "print(index)"
   ]
  },
  {
   "cell_type": "code",
   "execution_count": 2,
   "id": "97c52d64",
   "metadata": {},
   "outputs": [
    {
     "name": "stdout",
     "output_type": "stream",
     "text": [
      "4\n",
      "This module is awesome\n"
     ]
    }
   ],
   "source": [
    "from my_module import search, test # or from my_module import *\n",
    "courses = ['History', 'Maths', 'Physics', 'Hindi', 'CSE']\n",
    "index = mm.search(courses,'CSE')\n",
    "print(index)\n",
    "print(test)"
   ]
  },
  {
   "cell_type": "code",
   "execution_count": 3,
   "id": "8bddd5c8",
   "metadata": {},
   "outputs": [
    {
     "name": "stdout",
     "output_type": "stream",
     "text": [
      "4\n",
      "This module is awesome\n"
     ]
    }
   ],
   "source": [
    "import sys\n",
    "sys.path.append('E:\\The educational extras\\Python_file')\n",
    "'''APPENDING PATH- append() is a built-in function of sys module that can be used with path variable to add \n",
    "a specific path for interpreter to search.'''\n",
    "from my_module import search, test \n",
    "courses = ['History', 'Maths', 'Physics', 'Hindi', 'CSE']\n",
    "index = mm.search(courses,'CSE')\n",
    "print(index)\n",
    "print(test)"
   ]
  },
  {
   "cell_type": "code",
   "execution_count": 1,
   "id": "a6c45ed2",
   "metadata": {},
   "outputs": [
    {
     "name": "stdout",
     "output_type": "stream",
     "text": [
      "Hindi\n"
     ]
    }
   ],
   "source": [
    "import random as r\n",
    "courses = ['History', 'Maths', 'Physics', 'Hindi', 'CSE']\n",
    "rand = r.choice(courses)\n",
    "print(rand)"
   ]
  },
  {
   "cell_type": "code",
   "execution_count": 13,
   "id": "e76dab88",
   "metadata": {},
   "outputs": [
    {
     "name": "stdout",
     "output_type": "stream",
     "text": [
      "80\n"
     ]
    }
   ],
   "source": [
    "# Bingo\n",
    "import time\n",
    "l=[]\n",
    "while(True):\n",
    "    b = r.randrange(1,100) #  b = r.choice(range(1,100)); range does not include 100 but using randint will\n",
    "    if b not in l:\n",
    "        l.append(b)\n",
    "        # print(b)\n",
    "    if len(l) == 99:\n",
    "        break\n",
    "print(l[14])"
   ]
  },
  {
   "cell_type": "code",
   "execution_count": 6,
   "id": "bbd01514",
   "metadata": {},
   "outputs": [
    {
     "name": "stdout",
     "output_type": "stream",
     "text": [
      "1.5707963267948966\n",
      "1.0\n"
     ]
    }
   ],
   "source": [
    "import math\n",
    "res = math.radians(90) # convert 90 degrees to radians\n",
    "print(res)\n",
    "print(math.sin(res))"
   ]
  },
  {
   "cell_type": "code",
   "execution_count": 7,
   "id": "be7dda9f",
   "metadata": {},
   "outputs": [
    {
     "name": "stdout",
     "output_type": "stream",
     "text": [
      "2023-04-06\n",
      "False\n",
      "E:\\Python codes\n",
      "E:\\Python\\lib\\os.py\n"
     ]
    }
   ],
   "source": [
    "import datetime\n",
    "import calendar\n",
    "import os\n",
    "today = datetime.date.today()\n",
    "leap = calendar.isleap(2017)\n",
    "print(today)\n",
    "print(leap)\n",
    "print(os.getcwd())\n",
    "print(os.__file__)"
   ]
  },
  {
   "cell_type": "code",
   "execution_count": 8,
   "id": "fe28ed57",
   "metadata": {},
   "outputs": [
    {
     "data": {
      "text/plain": [
       "['E:\\\\Python codes',\n",
       " 'E:\\\\Python\\\\python39.zip',\n",
       " 'E:\\\\Python\\\\DLLs',\n",
       " 'E:\\\\Python\\\\lib',\n",
       " 'E:\\\\Python',\n",
       " '',\n",
       " 'E:\\\\Python\\\\lib\\\\site-packages',\n",
       " 'E:\\\\Python\\\\lib\\\\site-packages\\\\win32',\n",
       " 'E:\\\\Python\\\\lib\\\\site-packages\\\\win32\\\\lib',\n",
       " 'E:\\\\Python\\\\lib\\\\site-packages\\\\Pythonwin',\n",
       " 'E:\\\\The educational extras\\\\Python_file']"
      ]
     },
     "execution_count": 8,
     "metadata": {},
     "output_type": "execute_result"
    }
   ],
   "source": [
    "sys.path"
   ]
  },
  {
   "cell_type": "code",
   "execution_count": 9,
   "id": "f4f50002",
   "metadata": {},
   "outputs": [
    {
     "data": {
      "text/plain": [
       "['__breakpointhook__',\n",
       " '__displayhook__',\n",
       " '__doc__',\n",
       " '__excepthook__',\n",
       " '__interactivehook__',\n",
       " '__loader__',\n",
       " '__name__',\n",
       " '__package__',\n",
       " '__spec__',\n",
       " '__stderr__',\n",
       " '__stdin__',\n",
       " '__stdout__',\n",
       " '__unraisablehook__',\n",
       " '_base_executable',\n",
       " '_clear_type_cache',\n",
       " '_current_frames',\n",
       " '_debugmallocstats',\n",
       " '_enablelegacywindowsfsencoding',\n",
       " '_framework',\n",
       " '_getframe',\n",
       " '_git',\n",
       " '_home',\n",
       " '_xoptions',\n",
       " 'addaudithook',\n",
       " 'api_version',\n",
       " 'argv',\n",
       " 'audit',\n",
       " 'base_exec_prefix',\n",
       " 'base_prefix',\n",
       " 'breakpointhook',\n",
       " 'builtin_module_names',\n",
       " 'byteorder',\n",
       " 'call_tracing',\n",
       " 'copyright',\n",
       " 'displayhook',\n",
       " 'dllhandle',\n",
       " 'dont_write_bytecode',\n",
       " 'exc_info',\n",
       " 'excepthook',\n",
       " 'exec_prefix',\n",
       " 'executable',\n",
       " 'exit',\n",
       " 'flags',\n",
       " 'float_info',\n",
       " 'float_repr_style',\n",
       " 'get_asyncgen_hooks',\n",
       " 'get_coroutine_origin_tracking_depth',\n",
       " 'getallocatedblocks',\n",
       " 'getdefaultencoding',\n",
       " 'getfilesystemencodeerrors',\n",
       " 'getfilesystemencoding',\n",
       " 'getprofile',\n",
       " 'getrecursionlimit',\n",
       " 'getrefcount',\n",
       " 'getsizeof',\n",
       " 'getswitchinterval',\n",
       " 'gettrace',\n",
       " 'getwindowsversion',\n",
       " 'hash_info',\n",
       " 'hexversion',\n",
       " 'implementation',\n",
       " 'int_info',\n",
       " 'intern',\n",
       " 'is_finalizing',\n",
       " 'last_traceback',\n",
       " 'last_type',\n",
       " 'last_value',\n",
       " 'maxsize',\n",
       " 'maxunicode',\n",
       " 'meta_path',\n",
       " 'modules',\n",
       " 'path',\n",
       " 'path_hooks',\n",
       " 'path_importer_cache',\n",
       " 'platform',\n",
       " 'platlibdir',\n",
       " 'prefix',\n",
       " 'ps1',\n",
       " 'ps2',\n",
       " 'ps3',\n",
       " 'pycache_prefix',\n",
       " 'set_asyncgen_hooks',\n",
       " 'set_coroutine_origin_tracking_depth',\n",
       " 'setprofile',\n",
       " 'setrecursionlimit',\n",
       " 'setswitchinterval',\n",
       " 'settrace',\n",
       " 'stderr',\n",
       " 'stdin',\n",
       " 'stdout',\n",
       " 'thread_info',\n",
       " 'unraisablehook',\n",
       " 'version',\n",
       " 'version_info',\n",
       " 'warnoptions',\n",
       " 'winver']"
      ]
     },
     "execution_count": 9,
     "metadata": {},
     "output_type": "execute_result"
    }
   ],
   "source": [
    "dir(sys)"
   ]
  },
  {
   "cell_type": "code",
   "execution_count": null,
   "id": "749a4bf2",
   "metadata": {},
   "outputs": [],
   "source": []
  }
 ],
 "metadata": {
  "kernelspec": {
   "display_name": "Python 3 (ipykernel)",
   "language": "python",
   "name": "python3"
  },
  "language_info": {
   "codemirror_mode": {
    "name": "ipython",
    "version": 3
   },
   "file_extension": ".py",
   "mimetype": "text/x-python",
   "name": "python",
   "nbconvert_exporter": "python",
   "pygments_lexer": "ipython3",
   "version": "3.9.12"
  }
 },
 "nbformat": 4,
 "nbformat_minor": 5
}
