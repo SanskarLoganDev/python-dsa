{
 "cells": [
  {
   "cell_type": "code",
   "execution_count": 1,
   "id": "06d09636",
   "metadata": {},
   "outputs": [],
   "source": [
    "# Integers and Floats - Working with numberic data\n",
    "\n",
    "# Python 2 has two integer types - int and long. There is no 'long integer' in Python 3 anymore"
   ]
  },
  {
   "cell_type": "code",
   "execution_count": 2,
   "id": "9226e4d7",
   "metadata": {},
   "outputs": [],
   "source": [
    "# Arithmetic Operators:\n",
    "# Addition:       3 + 2\n",
    "# Subtraction:    3 - 2\n",
    "# Multiplication: 3 * 2\n",
    "# Division:       3 / 2   (gives the actual value in decimal)\n",
    "# Floor Division: 3 // 2  (gives in integer)\n",
    "# Exponent:       3 ** 2  \n",
    "# Modulus:        3 % 2   (remainder)\n",
    "\n",
    "# Comparisons:\n",
    "# Equal:            3 == 2\n",
    "# Not Equal:        3 != 2\n",
    "# Greater Than:     3 > 2\n",
    "# Less Than:        3 < 2\n",
    "# Greater or Equal: 3 >= 2\n",
    "# Less or Equal:    3 <= 2"
   ]
  },
  {
   "cell_type": "code",
   "execution_count": 11,
   "id": "cadbb7fb",
   "metadata": {},
   "outputs": [
    {
     "name": "stdout",
     "output_type": "stream",
     "text": [
      "140\n",
      "-50\n",
      "4275\n",
      "2.111111111111111\n",
      "47\n",
      "1024\n",
      "1\n",
      "False\n",
      "True\n",
      "False\n",
      "True\n",
      "375\n",
      "4465\n",
      "90\n",
      "<class 'float'>\n",
      "5.6\n"
     ]
    }
   ],
   "source": [
    "n1 = 45\n",
    "n2 = 95\n",
    "print(n1+n2)\n",
    "print(n1-n2)\n",
    "print(n1*n2)\n",
    "print(n2/n1)  \n",
    "print(n2//2)\n",
    "print(32**2)\n",
    "print(n2%2)\n",
    "\n",
    "print(abs(-90))\n",
    "print(type(7.89))\n",
    "print(round(5.56,1))"
   ]
  },
  {
   "cell_type": "code",
   "execution_count": 12,
   "id": "21cf3411",
   "metadata": {},
   "outputs": [
    {
     "name": "stdout",
     "output_type": "stream",
     "text": [
      "False\n",
      "True\n",
      "False\n",
      "True\n",
      "375\n",
      "4465\n"
     ]
    }
   ],
   "source": [
    "print(n1==n2)\n",
    "print(n1<n2)\n",
    "print(n1>=n2)\n",
    "print(n1!=n2)\n",
    "print(n1*2+3*n2)\n",
    "print((n1+2)*n2)"
   ]
  },
  {
   "cell_type": "code",
   "execution_count": 13,
   "id": "15c85df5",
   "metadata": {},
   "outputs": [
    {
     "name": "stdout",
     "output_type": "stream",
     "text": [
      "7889\n",
      "167\n"
     ]
    }
   ],
   "source": [
    "num1 = '78'\n",
    "num2 = '89'\n",
    "print(num1+num2)\n",
    "num1 = int(num1)\n",
    "num2 = int(num2)\n",
    "print(num1+num2)"
   ]
  },
  {
   "cell_type": "code",
   "execution_count": 2,
   "id": "95dc1aec",
   "metadata": {},
   "outputs": [
    {
     "name": "stdout",
     "output_type": "stream",
     "text": [
      "10\n"
     ]
    }
   ],
   "source": [
    "numbers= range(10,30)\n",
    "print(numbers[0])"
   ]
  },
  {
   "cell_type": "code",
   "execution_count": 6,
   "id": "5e037358",
   "metadata": {},
   "outputs": [
    {
     "data": {
      "text/plain": [
       "True"
      ]
     },
     "execution_count": 6,
     "metadata": {},
     "output_type": "execute_result"
    }
   ],
   "source": [
    "x=10; y=10; z=y\n",
    "x==y\n"
   ]
  },
  {
   "cell_type": "code",
   "execution_count": 7,
   "id": "e83fe57a",
   "metadata": {},
   "outputs": [
    {
     "data": {
      "text/plain": [
       "True"
      ]
     },
     "execution_count": 7,
     "metadata": {},
     "output_type": "execute_result"
    }
   ],
   "source": [
    "y is z"
   ]
  },
  {
   "cell_type": "code",
   "execution_count": 8,
   "id": "4f04ac62",
   "metadata": {},
   "outputs": [
    {
     "data": {
      "text/plain": [
       "1992737122896"
      ]
     },
     "execution_count": 8,
     "metadata": {},
     "output_type": "execute_result"
    }
   ],
   "source": [
    "id(x)\n",
    "# the value of 10 is only created once in memory and assigned to the rest"
   ]
  },
  {
   "cell_type": "code",
   "execution_count": 9,
   "id": "f6fe6c53",
   "metadata": {},
   "outputs": [
    {
     "data": {
      "text/plain": [
       "1992737122896"
      ]
     },
     "execution_count": 9,
     "metadata": {},
     "output_type": "execute_result"
    }
   ],
   "source": [
    "id(y)\n"
   ]
  },
  {
   "cell_type": "code",
   "execution_count": 10,
   "id": "0f454e57",
   "metadata": {},
   "outputs": [
    {
     "data": {
      "text/plain": [
       "1992737122896"
      ]
     },
     "execution_count": 10,
     "metadata": {},
     "output_type": "execute_result"
    }
   ],
   "source": [
    "id(z)"
   ]
  },
  {
   "cell_type": "code",
   "execution_count": 15,
   "id": "443bbf11",
   "metadata": {},
   "outputs": [
    {
     "name": "stdout",
     "output_type": "stream",
     "text": [
      "[1, 2, 3]\n"
     ]
    },
    {
     "data": {
      "text/plain": [
       "1992817518528"
      ]
     },
     "execution_count": 15,
     "metadata": {},
     "output_type": "execute_result"
    }
   ],
   "source": [
    "a=[1,2,3]\n",
    "b=a.copy() # copy command creates a new variable in memory\n",
    "print(b)\n",
    "id(a)"
   ]
  },
  {
   "cell_type": "code",
   "execution_count": 13,
   "id": "dc338a5d",
   "metadata": {},
   "outputs": [
    {
     "data": {
      "text/plain": [
       "True"
      ]
     },
     "execution_count": 13,
     "metadata": {},
     "output_type": "execute_result"
    }
   ],
   "source": [
    "a==b # '=' checks the value of the variable\n"
   ]
  },
  {
   "cell_type": "code",
   "execution_count": 14,
   "id": "632c2610",
   "metadata": {},
   "outputs": [
    {
     "data": {
      "text/plain": [
       "False"
      ]
     },
     "execution_count": 14,
     "metadata": {},
     "output_type": "execute_result"
    }
   ],
   "source": [
    " a is b # checks the id/ location of variable in memory"
   ]
  },
  {
   "cell_type": "code",
   "execution_count": 16,
   "id": "a0c790b9",
   "metadata": {},
   "outputs": [
    {
     "data": {
      "text/plain": [
       "1992817536448"
      ]
     },
     "execution_count": 16,
     "metadata": {},
     "output_type": "execute_result"
    }
   ],
   "source": [
    "id(b)"
   ]
  },
  {
   "cell_type": "code",
   "execution_count": 17,
   "id": "78c54144",
   "metadata": {},
   "outputs": [
    {
     "data": {
      "text/plain": [
       "True"
      ]
     },
     "execution_count": 17,
     "metadata": {},
     "output_type": "execute_result"
    }
   ],
   "source": [
    "d=[34,56,78]\n",
    "34 in d"
   ]
  },
  {
   "cell_type": "code",
   "execution_count": 18,
   "id": "1ee66021",
   "metadata": {},
   "outputs": [
    {
     "data": {
      "text/plain": [
       "False"
      ]
     },
     "execution_count": 18,
     "metadata": {},
     "output_type": "execute_result"
    }
   ],
   "source": [
    "55 in d"
   ]
  },
  {
   "cell_type": "code",
   "execution_count": 1,
   "id": "4676a430",
   "metadata": {},
   "outputs": [
    {
     "data": {
      "text/plain": [
       "complex"
      ]
     },
     "execution_count": 1,
     "metadata": {},
     "output_type": "execute_result"
    }
   ],
   "source": [
    "poll = 3.253j\n",
    "type(poll)"
   ]
  },
  {
   "cell_type": "code",
   "execution_count": 2,
   "id": "1059dc12",
   "metadata": {},
   "outputs": [
    {
     "name": "stdout",
     "output_type": "stream",
     "text": [
      "19.0\n",
      "89\n"
     ]
    }
   ],
   "source": [
    "num = 19\n",
    "t = '89'\n",
    "print(float(num))\n",
    "print(int(t))"
   ]
  },
  {
   "cell_type": "code",
   "execution_count": 7,
   "id": "e4259114",
   "metadata": {},
   "outputs": [
    {
     "name": "stdout",
     "output_type": "stream",
     "text": [
      "19.000\n"
     ]
    }
   ],
   "source": [
    "fl = f'{num:.3f}'\n",
    "print(fl)"
   ]
  },
  {
   "cell_type": "code",
   "execution_count": null,
   "id": "cd25148d",
   "metadata": {},
   "outputs": [],
   "source": []
  }
 ],
 "metadata": {
  "kernelspec": {
   "display_name": "Python 3 (ipykernel)",
   "language": "python",
   "name": "python3"
  },
  "language_info": {
   "codemirror_mode": {
    "name": "ipython",
    "version": 3
   },
   "file_extension": ".py",
   "mimetype": "text/x-python",
   "name": "python",
   "nbconvert_exporter": "python",
   "pygments_lexer": "ipython3",
   "version": "3.11.3"
  }
 },
 "nbformat": 4,
 "nbformat_minor": 5
}
