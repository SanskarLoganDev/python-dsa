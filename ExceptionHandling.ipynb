{
 "cells": [
  {
   "cell_type": "code",
   "execution_count": 1,
   "id": "fc01a0cb",
   "metadata": {},
   "outputs": [
    {
     "name": "stdout",
     "output_type": "stream",
     "text": [
      "Something is wrong\n"
     ]
    }
   ],
   "source": [
    "try:\n",
    "    f = open('my_module.py')\n",
    "    var = no_bar\n",
    "except FileNotFoundError:\n",
    "    print('File does not exist')\n",
    "except Exception:\n",
    "    print('Something is wrong')\n",
    "    "
   ]
  },
  {
   "cell_type": "code",
   "execution_count": 2,
   "id": "a405c788",
   "metadata": {},
   "outputs": [
    {
     "name": "stdout",
     "output_type": "stream",
     "text": [
      "name 'no_bar' is not defined\n",
      "No one can stop me\n"
     ]
    }
   ],
   "source": [
    "try:\n",
    "    f = open('my_module.py')\n",
    "    var = no_bar\n",
    "except FileNotFoundError as e:\n",
    "    print(e)\n",
    "except Exception as e:\n",
    "    print(e)\n",
    "else: # only works is there is no exception\n",
    "    print(f.read())\n",
    "    f.close()\n",
    "finally: # runs reagrdless of exception\n",
    "    print('No one can stop me')"
   ]
  },
  {
   "cell_type": "code",
   "execution_count": 3,
   "id": "d664ae9a",
   "metadata": {},
   "outputs": [
    {
     "name": "stdout",
     "output_type": "stream",
     "text": [
      "#!/usr/bin/env python\n",
      "# coding: utf-8\n",
      "\n",
      "# In[2]:\n",
      "\n",
      "\n",
      "print(\"Module has been imported\")\n",
      "\n",
      "test='This module is awesome'\n",
      "\n",
      "def search(source,target):\n",
      "    for i,text in enumerate(source):\n",
      "        if text==target:\n",
      "            return i\n",
      "    return -1\n",
      "\n",
      "\n",
      "# In[4]:\n",
      "\n",
      "\n",
      "\n",
      "\n",
      "\n",
      "# In[ ]:\n",
      "\n",
      "\n",
      "\n",
      "\n",
      "\n"
     ]
    }
   ],
   "source": [
    "try:\n",
    "    f = open('my_module.py')\n",
    "except FileNotFoundError:\n",
    "    print('File does not exist')\n",
    "else: \n",
    "    print(f.read())\n",
    "    f.close()\n",
    "    "
   ]
  },
  {
   "cell_type": "code",
   "execution_count": 15,
   "id": "875ab8ab",
   "metadata": {},
   "outputs": [
    {
     "name": "stdout",
     "output_type": "stream",
     "text": [
      "File does not exist\n"
     ]
    }
   ],
   "source": [
    "try:\n",
    "    f = open('my_module.py')\n",
    "    if f.name =='my_module.py':\n",
    "        raise Exception # manually causing an exception\n",
    "except Exception:\n",
    "    print('File does not exist')\n",
    "else: \n",
    "    print(f.read())\n",
    "    f.close()"
   ]
  },
  {
   "cell_type": "code",
   "execution_count": 4,
   "id": "b1337be8",
   "metadata": {},
   "outputs": [
    {
     "name": "stdout",
     "output_type": "stream",
     "text": [
      "True\n"
     ]
    }
   ],
   "source": [
    "from datetime import datetime\n",
    "\n",
    "def is_valid_datetime(date_string, date_format):\n",
    "    try:\n",
    "        datetime.strptime(date_string, date_format)\n",
    "        return True\n",
    "    except ValueError:\n",
    "        return False\n",
    "\n",
    "# Example usage:\n",
    "date_string = \"2023-05-31 15:30:00\"\n",
    "date_format = \"%Y-%m-%d %H:%M:%S\"\n",
    "\n",
    "if is_valid_datetime(date_string, date_format):\n",
    "    print(\"Valid datetime format\")\n",
    "else:\n",
    "    print(\"Invalid datetime format\")\n"
   ]
  },
  {
   "cell_type": "code",
   "execution_count": 10,
   "id": "834598db",
   "metadata": {},
   "outputs": [
    {
     "name": "stdout",
     "output_type": "stream",
     "text": [
      "Validation Error: Empty string found for field 'k2'\n",
      "Validation Error: Empty string found for field 'f3'\n"
     ]
    }
   ],
   "source": [
    "def validate_string_length(string_dict, length):\n",
    "    try:\n",
    "        for key, value in string_dict.items():\n",
    "            if len(value) == 0:\n",
    "                raise ValueError(f\"Empty string found for field '{key}'\")\n",
    "    except ValueError as e:\n",
    "        print(\"Validation Error:\", str(e))\n",
    "        return\n",
    "\n",
    "    try:\n",
    "        for key, value in string_dict.items():\n",
    "            if len(value) > length:\n",
    "                raise ValueError(f\"String length exceeds {length} characters for field '{key}'\")\n",
    "        else:\n",
    "            print(\"All fields are valid\")\n",
    "    except ValueError as e:\n",
    "        print(\"Validation Error:\", str(e))\n",
    "\n",
    "input_field1 = {\n",
    "    \"k1\": \"Hello, world!\",\n",
    "    \"k2\": \"\",\n",
    "    \"k3\": \"Good morning\"\n",
    "}\n",
    "validate_string_length(input_dict1,80)\n",
    "input_dict3 = {\n",
    "    \"f1\": \"hj\",\n",
    "    \"f2\": \"\",\n",
    "    \"f3\": \"\"\n",
    "}\n",
    "validate_string_length(input_dict3, 80)"
   ]
  },
  {
   "cell_type": "code",
   "execution_count": null,
   "id": "7a10108b",
   "metadata": {},
   "outputs": [],
   "source": []
  }
 ],
 "metadata": {
  "kernelspec": {
   "display_name": "Python 3 (ipykernel)",
   "language": "python",
   "name": "python3"
  },
  "language_info": {
   "codemirror_mode": {
    "name": "ipython",
    "version": 3
   },
   "file_extension": ".py",
   "mimetype": "text/x-python",
   "name": "python",
   "nbconvert_exporter": "python",
   "pygments_lexer": "ipython3",
   "version": "3.11.3"
  }
 },
 "nbformat": 4,
 "nbformat_minor": 5
}
