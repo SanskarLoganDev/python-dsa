{
 "cells": [
  {
   "cell_type": "code",
   "execution_count": 2,
   "id": "6df52a36",
   "metadata": {},
   "outputs": [
    {
     "name": "stdout",
     "output_type": "stream",
     "text": [
      "Module has been imported\n"
     ]
    }
   ],
   "source": [
    "print(\"Module has been imported\")\n",
    "\n",
    "test='This module is awesome'\n",
    "\n",
    "def search(source,target):\n",
    "    for i,text in enumerate(source):\n",
    "        if text==target:\n",
    "            return i\n",
    "    return -1\n"
   ]
  },
  {
   "cell_type": "code",
   "execution_count": 4,
   "id": "32bc12f3",
   "metadata": {},
   "outputs": [
    {
     "name": "stdout",
     "output_type": "stream",
     "text": [
      "['C:\\\\Users\\\\sansk\\\\Python codes', 'E:\\\\Python\\\\python39.zip', 'E:\\\\Python\\\\DLLs', 'E:\\\\Python\\\\lib', 'E:\\\\Python', '', 'E:\\\\Python\\\\lib\\\\site-packages', 'E:\\\\Python\\\\lib\\\\site-packages\\\\win32', 'E:\\\\Python\\\\lib\\\\site-packages\\\\win32\\\\lib', 'E:\\\\Python\\\\lib\\\\site-packages\\\\Pythonwin']\n"
     ]
    }
   ],
   "source": []
  },
  {
   "cell_type": "code",
   "execution_count": null,
   "id": "33400086",
   "metadata": {},
   "outputs": [],
   "source": []
  }
 ],
 "metadata": {
  "kernelspec": {
   "display_name": "Python 3 (ipykernel)",
   "language": "python",
   "name": "python3"
  },
  "language_info": {
   "codemirror_mode": {
    "name": "ipython",
    "version": 3
   },
   "file_extension": ".py",
   "mimetype": "text/x-python",
   "name": "python",
   "nbconvert_exporter": "python",
   "pygments_lexer": "ipython3",
   "version": "3.9.12"
  }
 },
 "nbformat": 4,
 "nbformat_minor": 5
}
