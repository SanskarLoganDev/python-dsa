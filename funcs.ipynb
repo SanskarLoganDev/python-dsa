{
 "cells": [
  {
   "cell_type": "code",
   "execution_count": 1,
   "id": "30192377",
   "metadata": {},
   "outputs": [
    {
     "name": "stdout",
     "output_type": "stream",
     "text": [
      "None\n"
     ]
    }
   ],
   "source": [
    "def halo():\n",
    "    pass\n",
    "\n",
    "print(halo())"
   ]
  },
  {
   "cell_type": "code",
   "execution_count": 3,
   "id": "1a7ce0b7",
   "metadata": {},
   "outputs": [
    {
     "name": "stdout",
     "output_type": "stream",
     "text": [
      "Good morning Logan\n"
     ]
    }
   ],
   "source": [
    "def hello(greeting,name = 'Mofo'):  # mofo is the default value\n",
    "    return greeting+' '+name # or '{} {}'.format(greeting,name)\n",
    "\n",
    "print(hello('Good morning',name = 'Logan'))\n",
    "    "
   ]
  },
  {
   "cell_type": "code",
   "execution_count": 5,
   "id": "261744b1",
   "metadata": {},
   "outputs": [
    {
     "name": "stdout",
     "output_type": "stream",
     "text": [
      "('Math', 'Art')\n",
      "{'name': 'James', 'age': 22}\n"
     ]
    }
   ],
   "source": [
    "def student(*args, **kwargs):\n",
    "    print(args)\n",
    "    print(kwargs)\n",
    "    \n",
    "student('Math','Art',name = 'James', age = 22)\n"
   ]
  },
  {
   "cell_type": "code",
   "execution_count": 10,
   "id": "8dbade56",
   "metadata": {},
   "outputs": [
    {
     "name": "stdout",
     "output_type": "stream",
     "text": [
      "(['Math', 'Science'], {'name': 'James', 'age': 22})\n",
      "{}\n",
      "('Math', 'Science')\n",
      "{'name': 'James', 'age': 22}\n"
     ]
    }
   ],
   "source": [
    "courses = ['Math', 'Science']\n",
    "details = {'name' : 'James', 'age' : 22}\n",
    "student(courses, details)\n",
    "student(*courses, **details)"
   ]
  },
  {
   "cell_type": "code",
   "execution_count": 17,
   "id": "7cf68f36",
   "metadata": {},
   "outputs": [
    {
     "name": "stdout",
     "output_type": "stream",
     "text": [
      "True\n",
      "31\n"
     ]
    }
   ],
   "source": [
    "# Leap year code\n",
    "month_days=[0,31,28,31,30,31,30,31,31,30,31,30,31]\n",
    "\n",
    "def is_leap(year):\n",
    "    return year %4 ==0 and (year !=100 or year%400 ==0)\n",
    "\n",
    "def month_day(year, month):\n",
    "    if not 1<=month<=12:\n",
    "        return 'Invalid month'\n",
    "    \n",
    "    if month==2 and is_leap(year)==True:\n",
    "        return 29\n",
    "    else:\n",
    "        return month_days[month]\n",
    "\n",
    "print(is_leap(2020))\n",
    "print(month_day(2020,3))\n",
    "        "
   ]
  },
  {
   "cell_type": "code",
   "execution_count": null,
   "id": "65678489",
   "metadata": {},
   "outputs": [],
   "source": []
  }
 ],
 "metadata": {
  "kernelspec": {
   "display_name": "Python 3 (ipykernel)",
   "language": "python",
   "name": "python3"
  },
  "language_info": {
   "codemirror_mode": {
    "name": "ipython",
    "version": 3
   },
   "file_extension": ".py",
   "mimetype": "text/x-python",
   "name": "python",
   "nbconvert_exporter": "python",
   "pygments_lexer": "ipython3",
   "version": "3.9.12"
  }
 },
 "nbformat": 4,
 "nbformat_minor": 5
}
