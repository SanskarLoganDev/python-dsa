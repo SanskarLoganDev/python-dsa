{
 "cells": [
  {
   "cell_type": "code",
   "execution_count": 1,
   "id": "38054f38",
   "metadata": {},
   "outputs": [
    {
     "name": "stderr",
     "output_type": "stream",
     "text": [
      "openjdk version \"11.0.12\" 2021-07-20\n",
      "OpenJDK Runtime Environment Microsoft-25199 (build 11.0.12+7)\n",
      "OpenJDK 64-Bit Server VM Microsoft-25199 (build 11.0.12+7, mixed mode)\n"
     ]
    },
    {
     "name": "stdout",
     "output_type": "stream",
     "text": [
      "Python 3.9.12\n"
     ]
    }
   ],
   "source": [
    "!java -version\n",
    "!python --version"
   ]
  },
  {
   "cell_type": "code",
   "execution_count": 2,
   "id": "7dfec85f",
   "metadata": {},
   "outputs": [
    {
     "name": "stdout",
     "output_type": "stream",
     "text": [
      "Collecting pyspark\n",
      "  Downloading pyspark-3.3.2.tar.gz (281.4 MB)\n",
      "     -------------------------------------- 281.4/281.4 MB 7.9 MB/s eta 0:00:00\n",
      "  Preparing metadata (setup.py): started\n",
      "  Preparing metadata (setup.py): finished with status 'done'\n",
      "Collecting py4j==0.10.9.5\n",
      "  Downloading py4j-0.10.9.5-py2.py3-none-any.whl (199 kB)\n",
      "     ------------------------------------- 199.7/199.7 kB 12.6 MB/s eta 0:00:00\n",
      "Building wheels for collected packages: pyspark\n",
      "  Building wheel for pyspark (setup.py): started\n",
      "  Building wheel for pyspark (setup.py): still running...\n",
      "  Building wheel for pyspark (setup.py): still running...\n",
      "  Building wheel for pyspark (setup.py): still running...\n",
      "  Building wheel for pyspark (setup.py): still running...\n",
      "  Building wheel for pyspark (setup.py): still running...\n",
      "  Building wheel for pyspark (setup.py): still running...\n",
      "  Building wheel for pyspark (setup.py): still running...\n",
      "  Building wheel for pyspark (setup.py): still running...\n",
      "  Building wheel for pyspark (setup.py): still running...\n",
      "  Building wheel for pyspark (setup.py): still running...\n",
      "  Building wheel for pyspark (setup.py): finished with status 'done'\n",
      "  Created wheel for pyspark: filename=pyspark-3.3.2-py2.py3-none-any.whl size=281824045 sha256=70fbe84f71e4fc1eb0485f6f3d4684b68d9dae7dba07a3dc526c91f9b48dac55\n",
      "  Stored in directory: c:\\users\\sansk\\appdata\\local\\pip\\cache\\wheels\\8e\\1f\\b7\\ed748602b39b0e85d8d322ca481856faea8d5360900ee84b00\n",
      "Successfully built pyspark\n",
      "Installing collected packages: py4j, pyspark\n",
      "Successfully installed py4j-0.10.9.5 pyspark-3.3.2\n"
     ]
    }
   ],
   "source": [
    "!pip install pyspark"
   ]
  },
  {
   "cell_type": "code",
   "execution_count": 21,
   "id": "d6f4ac2d",
   "metadata": {},
   "outputs": [],
   "source": [
    "import pyspark\n",
    "import findspark"
   ]
  },
  {
   "cell_type": "code",
   "execution_count": 22,
   "id": "912c2986",
   "metadata": {},
   "outputs": [
    {
     "data": {
      "text/plain": [
       "'E:\\\\spark-3.3.1-bin-hadoop2'"
      ]
     },
     "execution_count": 22,
     "metadata": {},
     "output_type": "execute_result"
    }
   ],
   "source": [
    "findspark.init()\n",
    "findspark.find()"
   ]
  },
  {
   "cell_type": "code",
   "execution_count": 23,
   "id": "cf7036df",
   "metadata": {},
   "outputs": [],
   "source": [
    "from pyspark import SparkContext, SparkConf\n",
    "from pyspark.sql import SQLContext\n",
    "from pyspark.sql import SparkSession"
   ]
  },
  {
   "cell_type": "code",
   "execution_count": 27,
   "id": "c97d652b",
   "metadata": {},
   "outputs": [],
   "source": [
    "conf = pyspark.SparkConf().setAppName('SparkApp').setMaster('local')\n",
    "sc = pyspark.SparkContext(conf=conf)\n",
    "spark = SparkSession(sc)"
   ]
  },
  {
   "cell_type": "code",
   "execution_count": 28,
   "id": "a216f8ad",
   "metadata": {},
   "outputs": [],
   "source": [
    "from pyspark.sql.types import Row\n",
    "from datetime import datetime"
   ]
  },
  {
   "cell_type": "code",
   "execution_count": 29,
   "id": "ead4c9c2",
   "metadata": {},
   "outputs": [
    {
     "data": {
      "text/plain": [
       "ParallelCollectionRDD[0] at readRDDFromFile at PythonRDD.scala:274"
      ]
     },
     "execution_count": 29,
     "metadata": {},
     "output_type": "execute_result"
    }
   ],
   "source": [
    "simple_data = sc.parallelize([1,23,56])\n",
    "simple_data"
   ]
  },
  {
   "cell_type": "code",
   "execution_count": 30,
   "id": "8e78e08a",
   "metadata": {},
   "outputs": [
    {
     "data": {
      "text/plain": [
       "3"
      ]
     },
     "execution_count": 30,
     "metadata": {},
     "output_type": "execute_result"
    }
   ],
   "source": [
    "simple_data.count()\n",
    "simple_data.first()"
   ]
  },
  {
   "cell_type": "code",
   "execution_count": 32,
   "id": "7b430008",
   "metadata": {},
   "outputs": [
    {
     "data": {
      "text/plain": [
       "[1, 23, 56]"
      ]
     },
     "execution_count": 32,
     "metadata": {},
     "output_type": "execute_result"
    }
   ],
   "source": [
    "simple_data.collect()"
   ]
  },
  {
   "cell_type": "code",
   "execution_count": 33,
   "id": "15e09bcf",
   "metadata": {},
   "outputs": [
    {
     "data": {
      "text/plain": [
       "[1, 12167, 175616]"
      ]
     },
     "execution_count": 33,
     "metadata": {},
     "output_type": "execute_result"
    }
   ],
   "source": [
    "value = simple_data.map(lambda x: x*x*x)\n",
    "value.collect()"
   ]
  },
  {
   "cell_type": "code",
   "execution_count": 51,
   "id": "f9b33476",
   "metadata": {},
   "outputs": [
    {
     "name": "stdout",
     "output_type": "stream",
     "text": [
      "2\n"
     ]
    },
    {
     "data": {
      "text/plain": [
       "[1, 'James', 34]"
      ]
     },
     "execution_count": 51,
     "metadata": {},
     "output_type": "execute_result"
    }
   ],
   "source": [
    "sample = [[1,\"James\",34],[2,\"Logan\",45]]\n",
    "simple_list= sc.parallelize(sample)\n",
    "print(simple_list.count())\n",
    "simple_list.first()"
   ]
  },
  {
   "cell_type": "code",
   "execution_count": 52,
   "id": "68ea4cbb",
   "metadata": {},
   "outputs": [],
   "source": [
    "simple_list.collect()\n",
    "cols = ['S.no','Name','Age']"
   ]
  },
  {
   "cell_type": "code",
   "execution_count": 72,
   "id": "52f1c25f",
   "metadata": {},
   "outputs": [
    {
     "name": "stdout",
     "output_type": "stream",
     "text": [
      "+----+-----+---+\n",
      "|S.no| Name|Age|\n",
      "+----+-----+---+\n",
      "|   1|James| 34|\n",
      "|   2|Logan| 45|\n",
      "+----+-----+---+\n",
      "\n"
     ]
    }
   ],
   "source": [
    "records = simple_list.toDF(cols)\n",
    "records.show()"
   ]
  },
  {
   "cell_type": "code",
   "execution_count": 77,
   "id": "53aacc42",
   "metadata": {},
   "outputs": [],
   "source": [
    "records.createTempView(\"Record\")"
   ]
  },
  {
   "cell_type": "code",
   "execution_count": 78,
   "id": "4bbbd838",
   "metadata": {},
   "outputs": [
    {
     "name": "stdout",
     "output_type": "stream",
     "text": [
      "+----+-----+---+\n",
      "|S.no| Name|Age|\n",
      "+----+-----+---+\n",
      "|   2|Logan| 45|\n",
      "+----+-----+---+\n",
      "\n"
     ]
    }
   ],
   "source": [
    "spark.sql('select * from record where age>35').show()\n"
   ]
  },
  {
   "cell_type": "code",
   "execution_count": 64,
   "id": "23fda0a1",
   "metadata": {},
   "outputs": [
    {
     "name": "stdout",
     "output_type": "stream",
     "text": [
      "root\n",
      " |-- col_string: string (nullable = true)\n",
      " |-- col_double: double (nullable = true)\n",
      " |-- col_int: long (nullable = true)\n",
      " |-- col_bool: boolean (nullable = true)\n",
      " |-- col_list: array (nullable = true)\n",
      " |    |-- element: long (containsNull = true)\n",
      "\n"
     ]
    }
   ],
   "source": [
    "complex_data = sc.parallelize([Row(col_string = \"James\", col_double = 3.14,col_int = 34, col_bool = True,col_list=[12,\"Lo\",45]),\n",
    "                              Row(col_string = \"Phil\", col_double = 9.14,col_int = 39, col_bool = False, col_list=[12,\"Ho\",49])\n",
    "                              ])\n",
    "complex_data_df=complex_data.toDF()\n",
    "complex_data_df.printSchema()"
   ]
  },
  {
   "cell_type": "code",
   "execution_count": 66,
   "id": "21f65941",
   "metadata": {},
   "outputs": [
    {
     "name": "stdout",
     "output_type": "stream",
     "text": [
      "+----------+----------+-------+--------+--------------+\n",
      "|col_string|col_double|col_int|col_bool|      col_list|\n",
      "+----------+----------+-------+--------+--------------+\n",
      "|     James|      3.14|     34|    true|[12, null, 45]|\n",
      "|      Phil|      9.14|     39|   false|[12, null, 49]|\n",
      "+----------+----------+-------+--------+--------------+\n",
      "\n"
     ]
    }
   ],
   "source": [
    "complex_data_df.show()"
   ]
  },
  {
   "cell_type": "code",
   "execution_count": 67,
   "id": "f6d51753",
   "metadata": {},
   "outputs": [
    {
     "name": "stderr",
     "output_type": "stream",
     "text": [
      "E:\\Python\\lib\\site-packages\\pyspark\\sql\\context.py:112: FutureWarning: Deprecated in 3.0.0. Use SparkSession.builder.getOrCreate() instead.\n",
      "  warnings.warn(\n"
     ]
    },
    {
     "data": {
      "text/plain": [
       "<pyspark.sql.context.SQLContext at 0x1d8f9b22850>"
      ]
     },
     "execution_count": 67,
     "metadata": {},
     "output_type": "execute_result"
    }
   ],
   "source": [
    "sql = SQLContext(sc)\n",
    "sql"
   ]
  },
  {
   "cell_type": "code",
   "execution_count": 68,
   "id": "8cb7c77c",
   "metadata": {},
   "outputs": [
    {
     "data": {
      "text/plain": [
       "DataFrame[id: bigint]"
      ]
     },
     "execution_count": 68,
     "metadata": {},
     "output_type": "execute_result"
    }
   ],
   "source": [
    "# forms a dataframe directly\n",
    "df= sql.range(4)\n",
    "df"
   ]
  },
  {
   "cell_type": "code",
   "execution_count": 69,
   "id": "82086833",
   "metadata": {},
   "outputs": [
    {
     "name": "stdout",
     "output_type": "stream",
     "text": [
      "+---+\n",
      "| id|\n",
      "+---+\n",
      "|  0|\n",
      "|  1|\n",
      "|  2|\n",
      "|  3|\n",
      "+---+\n",
      "\n"
     ]
    }
   ],
   "source": [
    "df.show()"
   ]
  },
  {
   "cell_type": "code",
   "execution_count": 70,
   "id": "e268a48e",
   "metadata": {},
   "outputs": [
    {
     "name": "stdout",
     "output_type": "stream",
     "text": [
      "+---+-----+---+\n",
      "|Sno| Name|Age|\n",
      "+---+-----+---+\n",
      "|  1|James| 34|\n",
      "|  2|Logan| 45|\n",
      "+---+-----+---+\n",
      "\n"
     ]
    }
   ],
   "source": [
    "data = [[1,\"James\",34],[2,\"Logan\",45]]\n",
    "sql.createDataFrame(data,['Sno','Name','Age']).show()"
   ]
  },
  {
   "cell_type": "code",
   "execution_count": 79,
   "id": "a9029b4f",
   "metadata": {},
   "outputs": [],
   "source": [
    "data2 = sc.parallelize([Row(1,\"HP\",5),\n",
    "                       Row(2,\"Azus\",4),\n",
    "                       Row(3,\"Dell\",3)])"
   ]
  },
  {
   "cell_type": "code",
   "execution_count": 81,
   "id": "63b82c65",
   "metadata": {},
   "outputs": [
    {
     "name": "stdout",
     "output_type": "stream",
     "text": [
      "+---+----+---+\n",
      "| _1|  _2| _3|\n",
      "+---+----+---+\n",
      "|  1|  HP|  5|\n",
      "|  2|Azus|  4|\n",
      "|  3|Dell|  3|\n",
      "+---+----+---+\n",
      "\n"
     ]
    }
   ],
   "source": [
    "data2.toDF().show()"
   ]
  },
  {
   "cell_type": "code",
   "execution_count": 82,
   "id": "8988382a",
   "metadata": {},
   "outputs": [
    {
     "data": {
      "text/plain": [
       "PythonRDD[99] at RDD at PythonRDD.scala:53"
      ]
     },
     "execution_count": 82,
     "metadata": {},
     "output_type": "execute_result"
    }
   ],
   "source": [
    "col_name = Row('Sno','Laptop','Warranty')\n",
    "laps = data2.map(lambda r: col_name(*r))\n",
    "laps"
   ]
  },
  {
   "cell_type": "code",
   "execution_count": 84,
   "id": "76412b51",
   "metadata": {},
   "outputs": [
    {
     "data": {
      "text/plain": [
       "[Row(Sno=1, Laptop='HP', Warranty=5),\n",
       " Row(Sno=2, Laptop='Azus', Warranty=4),\n",
       " Row(Sno=3, Laptop='Dell', Warranty=3)]"
      ]
     },
     "execution_count": 84,
     "metadata": {},
     "output_type": "execute_result"
    }
   ],
   "source": [
    "laps.collect()"
   ]
  },
  {
   "cell_type": "code",
   "execution_count": 85,
   "id": "a7ef0d30",
   "metadata": {},
   "outputs": [
    {
     "name": "stdout",
     "output_type": "stream",
     "text": [
      "+---+------+--------+\n",
      "|Sno|Laptop|Warranty|\n",
      "+---+------+--------+\n",
      "|  1|    HP|       5|\n",
      "|  2|  Azus|       4|\n",
      "|  3|  Dell|       3|\n",
      "+---+------+--------+\n",
      "\n"
     ]
    }
   ],
   "source": [
    "laps_df = sql.createDataFrame(laps)\n",
    "laps_df.show()"
   ]
  },
  {
   "cell_type": "code",
   "execution_count": 86,
   "id": "1c709a62",
   "metadata": {},
   "outputs": [
    {
     "data": {
      "text/plain": [
       "Row(Sno=1, Laptop='HP', Warranty=5)"
      ]
     },
     "execution_count": 86,
     "metadata": {},
     "output_type": "execute_result"
    }
   ],
   "source": [
    "laps_df.first()"
   ]
  },
  {
   "cell_type": "code",
   "execution_count": 92,
   "id": "845b9100",
   "metadata": {},
   "outputs": [
    {
     "name": "stdout",
     "output_type": "stream",
     "text": [
      "+------+--------+\n",
      "|Laptop|Warranty|\n",
      "+------+--------+\n",
      "|    HP|       5|\n",
      "|  Azus|       4|\n",
      "|  Dell|       3|\n",
      "+------+--------+\n",
      "\n"
     ]
    }
   ],
   "source": [
    "# Accessing columns using select\n",
    "laps_df.select(\"Laptop\",\"Warranty\").show()"
   ]
  },
  {
   "cell_type": "code",
   "execution_count": 96,
   "id": "d861ed95",
   "metadata": {},
   "outputs": [
    {
     "name": "stdout",
     "output_type": "stream",
     "text": [
      "+---+--------+-------+\n",
      "|Sno|Warranty|New Lap|\n",
      "+---+--------+-------+\n",
      "|  1|       5|      6|\n",
      "|  2|       4|      6|\n",
      "|  3|       3|      6|\n",
      "+---+--------+-------+\n",
      "\n"
     ]
    }
   ],
   "source": [
    "laps_df.select(\"Sno\",\"Warranty\").withColumn(\"New Lap\",laps_df.Sno+laps_df.Warranty).show()"
   ]
  },
  {
   "cell_type": "code",
   "execution_count": 89,
   "id": "d296d1af",
   "metadata": {},
   "outputs": [
    {
     "data": {
      "text/plain": [
       "5"
      ]
     },
     "execution_count": 89,
     "metadata": {},
     "output_type": "execute_result"
    }
   ],
   "source": [
    "cell=laps_df.collect()[0][2]\n",
    "cell"
   ]
  },
  {
   "cell_type": "code",
   "execution_count": 91,
   "id": "b1ea20df",
   "metadata": {},
   "outputs": [
    {
     "data": {
      "text/plain": [
       "[('HP', 5), ('Azus', 4), ('Dell', 3)]"
      ]
     },
     "execution_count": 91,
     "metadata": {},
     "output_type": "execute_result"
    }
   ],
   "source": [
    "# Accessing columns using .rdd property\n",
    "laps_df.rdd.map(lambda x: (x.Laptop, x.Warranty)).collect()"
   ]
  },
  {
   "cell_type": "code",
   "execution_count": 93,
   "id": "2d0a721e",
   "metadata": {},
   "outputs": [
    {
     "data": {
      "text/plain": [
       "['HP 2018', 'Azus 2018', 'Dell 2018']"
      ]
     },
     "execution_count": 93,
     "metadata": {},
     "output_type": "execute_result"
    }
   ],
   "source": [
    "laps_df.rdd.map(lambda x: (x.Laptop+\" 2018\")).collect()"
   ]
  },
  {
   "cell_type": "code",
   "execution_count": 97,
   "id": "f01d6636",
   "metadata": {},
   "outputs": [
    {
     "name": "stdout",
     "output_type": "stream",
     "text": [
      "+---+------+---------+\n",
      "|Sno|Laptop|Guarantee|\n",
      "+---+------+---------+\n",
      "|  1|    HP|        5|\n",
      "|  2|  Azus|        4|\n",
      "|  3|  Dell|        3|\n",
      "+---+------+---------+\n",
      "\n"
     ]
    }
   ],
   "source": [
    "laps_df.withColumnRenamed(\"Warranty\",\"Guarantee\").show() # temporary"
   ]
  },
  {
   "cell_type": "code",
   "execution_count": 98,
   "id": "09570891",
   "metadata": {},
   "outputs": [
    {
     "name": "stdout",
     "output_type": "stream",
     "text": [
      "+---+------+--------+\n",
      "|Sno|Laptop|Warranty|\n",
      "+---+------+--------+\n",
      "|  1|    HP|       5|\n",
      "|  2|  Azus|       4|\n",
      "|  3|  Dell|       3|\n",
      "+---+------+--------+\n",
      "\n"
     ]
    }
   ],
   "source": [
    "laps_df.show()"
   ]
  },
  {
   "cell_type": "code",
   "execution_count": 99,
   "id": "b8cce21b",
   "metadata": {},
   "outputs": [
    {
     "name": "stdout",
     "output_type": "stream",
     "text": [
      "+---------+\n",
      "|Guarantee|\n",
      "+---------+\n",
      "|        5|\n",
      "|        4|\n",
      "|        3|\n",
      "+---------+\n",
      "\n"
     ]
    }
   ],
   "source": [
    "laps_df.select(laps_df.Warranty.alias(\"Guarantee\")).show()"
   ]
  },
  {
   "cell_type": "code",
   "execution_count": 100,
   "id": "cb35fa15",
   "metadata": {},
   "outputs": [],
   "source": [
    "# Pandas dataframes are quite similar to spark dataframes\n",
    "# converting a spark dataframe to pandas dataframe and vice versa\n",
    "\n",
    "import pandas"
   ]
  },
  {
   "cell_type": "code",
   "execution_count": 101,
   "id": "a7764f8b",
   "metadata": {},
   "outputs": [
    {
     "data": {
      "text/html": [
       "<div>\n",
       "<style scoped>\n",
       "    .dataframe tbody tr th:only-of-type {\n",
       "        vertical-align: middle;\n",
       "    }\n",
       "\n",
       "    .dataframe tbody tr th {\n",
       "        vertical-align: top;\n",
       "    }\n",
       "\n",
       "    .dataframe thead th {\n",
       "        text-align: right;\n",
       "    }\n",
       "</style>\n",
       "<table border=\"1\" class=\"dataframe\">\n",
       "  <thead>\n",
       "    <tr style=\"text-align: right;\">\n",
       "      <th></th>\n",
       "      <th>Sno</th>\n",
       "      <th>Laptop</th>\n",
       "      <th>Warranty</th>\n",
       "    </tr>\n",
       "  </thead>\n",
       "  <tbody>\n",
       "    <tr>\n",
       "      <th>0</th>\n",
       "      <td>1</td>\n",
       "      <td>HP</td>\n",
       "      <td>5</td>\n",
       "    </tr>\n",
       "    <tr>\n",
       "      <th>1</th>\n",
       "      <td>2</td>\n",
       "      <td>Azus</td>\n",
       "      <td>4</td>\n",
       "    </tr>\n",
       "    <tr>\n",
       "      <th>2</th>\n",
       "      <td>3</td>\n",
       "      <td>Dell</td>\n",
       "      <td>3</td>\n",
       "    </tr>\n",
       "  </tbody>\n",
       "</table>\n",
       "</div>"
      ],
      "text/plain": [
       "   Sno Laptop  Warranty\n",
       "0    1     HP         5\n",
       "1    2   Azus         4\n",
       "2    3   Dell         3"
      ]
     },
     "execution_count": 101,
     "metadata": {},
     "output_type": "execute_result"
    }
   ],
   "source": [
    "df_pandas = laps_df.toPandas()\n",
    "df_pandas"
   ]
  },
  {
   "cell_type": "code",
   "execution_count": 103,
   "id": "46301586",
   "metadata": {},
   "outputs": [
    {
     "name": "stdout",
     "output_type": "stream",
     "text": [
      "+---+------+--------+\n",
      "|Sno|Laptop|Warranty|\n",
      "+---+------+--------+\n",
      "|  1|    HP|       5|\n",
      "|  2|  Azus|       4|\n",
      "|  3|  Dell|       3|\n",
      "+---+------+--------+\n",
      "\n"
     ]
    }
   ],
   "source": [
    "df_spark=sql.createDataFrame(df_pandas).show()"
   ]
  },
  {
   "cell_type": "code",
   "execution_count": null,
   "id": "030aa10b",
   "metadata": {},
   "outputs": [],
   "source": []
  }
 ],
 "metadata": {
  "kernelspec": {
   "display_name": "Python 3 (ipykernel)",
   "language": "python",
   "name": "python3"
  },
  "language_info": {
   "codemirror_mode": {
    "name": "ipython",
    "version": 3
   },
   "file_extension": ".py",
   "mimetype": "text/x-python",
   "name": "python",
   "nbconvert_exporter": "python",
   "pygments_lexer": "ipython3",
   "version": "3.9.12"
  }
 },
 "nbformat": 4,
 "nbformat_minor": 5
}
