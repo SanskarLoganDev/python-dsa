{
 "cells": [
  {
   "cell_type": "code",
   "execution_count": 16,
   "id": "e30547ed",
   "metadata": {},
   "outputs": [
    {
     "name": "stdout",
     "output_type": "stream",
     "text": [
      "Enter the last digit of the series\n",
      "9\n",
      "1\n",
      "2\n",
      "3\n",
      "5\n",
      "8\n",
      "13\n",
      "21\n",
      "34\n",
      "55\n"
     ]
    }
   ],
   "source": [
    " # fibonacci\n",
    "\n",
    "n1 = 0\n",
    "n2 = 1\n",
    "n= int(input('Enter the last digit of the series\\n'))\n",
    "for i in range (1,n+1):\n",
    "    next = n1+n2\n",
    "    n1=n2\n",
    "    n2=next\n",
    "    print(next)\n"
   ]
  },
  {
   "cell_type": "code",
   "execution_count": 14,
   "id": "889001f6",
   "metadata": {},
   "outputs": [
    {
     "name": "stdout",
     "output_type": "stream",
     "text": [
      "Enter the string:\n",
      "nyrbtrvs\n",
      "not palindrome\n"
     ]
    }
   ],
   "source": [
    "# Palindrome\n",
    "s= input('Enter the string:\\n')\n",
    "st = s[::-1]\n",
    "if s==st:\n",
    "    print('palindrome')\n",
    "else:\n",
    "    print('not palindrome')\n"
   ]
  },
  {
   "cell_type": "code",
   "execution_count": 4,
   "id": "a4e18024",
   "metadata": {},
   "outputs": [
    {
     "name": "stdout",
     "output_type": "stream",
     "text": [
      "5\n"
     ]
    }
   ],
   "source": [
    "# Vowel Count\n",
    "c= 'Work from office'\n",
    "count=0\n",
    "for i in c:\n",
    "    if i== 'a' or i== 'e' or i=='i' or i=='o' or i=='u' or i=='A' or i=='E' or i=='I' or i=='O' or i=='U':\n",
    "        count+=1\n",
    "print(count)"
   ]
  },
  {
   "cell_type": "code",
   "execution_count": 5,
   "id": "6c6ef81c",
   "metadata": {},
   "outputs": [
    {
     "name": "stdout",
     "output_type": "stream",
     "text": [
      "6\n"
     ]
    }
   ],
   "source": [
    "# Word count\n",
    "c = ' Work from office and from home'\n",
    "c_strip = c.strip()\n",
    "count =1\n",
    "for i in c_strip:\n",
    "    if i ==' ':\n",
    "        count+=1\n",
    "print(count)"
   ]
  },
  {
   "cell_type": "code",
   "execution_count": 6,
   "id": "d6558e7a",
   "metadata": {},
   "outputs": [
    {
     "name": "stdout",
     "output_type": "stream",
     "text": [
      "total no of dictionaries:  3\n",
      "Average length of dictionaries:  1\n",
      "Max is:  4\n"
     ]
    }
   ],
   "source": [
    "# dictionary statistics\n",
    "\n",
    "list1 = [{'apples':'red','oranges':'orange','cherry':'red','Banana':'yellow'},{'name':'sanskar','age':25},{'Bowler':'Bumrah','Batsman':'Kohli','Keeper':'Dhoni'}]\n",
    "print('total no of dictionaries: ',len(list1))\n",
    "max = 0\n",
    "sum=0\n",
    "for i in list1:\n",
    "    if len(i)>max:\n",
    "        max=len(i)\n",
    "        sum+=len(i)\n",
    "print('Average length of dictionaries: ',sum//len(list1)) #floored\n",
    "print('Max is: ',max)"
   ]
  },
  {
   "cell_type": "code",
   "execution_count": 7,
   "id": "ecbe13e8",
   "metadata": {},
   "outputs": [
    {
     "name": "stdout",
     "output_type": "stream",
     "text": [
      "[2, 4, 4, 5, 5, 6, 8, 25, 32]\n",
      "[32, 25, 8, 6, 5, 5, 4, 4, 2]\n",
      "[32, 2, 4, 5, 6, 8, 25]\n",
      "32 2\n"
     ]
    }
   ],
   "source": [
    "# List manipulations\n",
    "import sys\n",
    "list1= [2,4,6,8,32,25,5,5,4]\n",
    "list_sort = sorted(list1)\n",
    "print(list_sort)\n",
    "list_rev = sorted(list1,reverse=True)\n",
    "print(list_rev)\n",
    "new_set = set(list1)\n",
    "new_list = list(new_set)\n",
    "print(new_list)\n",
    "max=-sys.maxsize-1\n",
    "min=sys.maxsize\n",
    " \n",
    "for i in new_list:\n",
    "    if i >max:\n",
    "        max=i\n",
    "    if i< min:\n",
    "        min = i\n",
    "print(max,min)"
   ]
  },
  {
   "cell_type": "code",
   "execution_count": 8,
   "id": "f7fdc4f2",
   "metadata": {},
   "outputs": [
    {
     "name": "stdout",
     "output_type": "stream",
     "text": [
      "Enter a number\n",
      "45\n",
      "positive int\n",
      "also odd\n"
     ]
    }
   ],
   "source": [
    "# Conditional statement practice\n",
    " \n",
    "inp = int(input('Enter a number\\n'))\n",
    "if inp>0:\n",
    "    print('positive int')\n",
    "    if (inp%2)==0:\n",
    "        print('also even')\n",
    "    else:\n",
    "        print('also odd')\n",
    "elif inp==0:\n",
    "    print('zero')\n",
    "else:\n",
    "    print('negative')\n"
   ]
  },
  {
   "cell_type": "code",
   "execution_count": 9,
   "id": "6caa7280",
   "metadata": {},
   "outputs": [
    {
     "name": "stdout",
     "output_type": "stream",
     "text": [
      "(1, 2, 3, 4, 5, 6, 8)\n",
      "(8, 4)\n",
      "(2, 6)\n"
     ]
    }
   ],
   "source": [
    "# tuple modifications\n",
    "tup1 = (2,4,4,6,8)\n",
    "tup2 = (1,3,3,4,5,8)\n",
    "print(tuple(set(tup1 + tup2)))\n",
    "print(tuple(set(tup1) & set(tup2)))\n",
    "print(tuple(set(tup1)-set(tup2)))"
   ]
  },
  {
   "cell_type": "code",
   "execution_count": 10,
   "id": "cc2cf3bc",
   "metadata": {},
   "outputs": [
    {
     "name": "stdout",
     "output_type": "stream",
     "text": [
      "Enter the amount\n",
      "37\n",
      "action to be performed\n",
      "check\n",
      "37\n"
     ]
    }
   ],
   "source": [
    "# Bank account\n",
    " \n",
    "amount= int(input('Enter the amount\\n'))\n",
    "while True:\n",
    "    action = input('action to be performed\\n')\n",
    "    if action =='withdraw':\n",
    "        wd = int(input('Enter the amount to be withdrawn\\n'))\n",
    "        amount-=wd\n",
    "        \n",
    "    if action == 'deposit':\n",
    "        dep = int(input('Enter the amount to be deposited\\n'))\n",
    "        amount+=dep\n",
    "        \n",
    "    if action == 'check':\n",
    "        print(amount)\n",
    "        break"
   ]
  },
  {
   "cell_type": "code",
   "execution_count": 11,
   "id": "505655fd",
   "metadata": {},
   "outputs": [
    {
     "name": "stdout",
     "output_type": "stream",
     "text": [
      "Enter the last no\n",
      "54\n",
      "2 3 5 7 11 13 17 19 23 29 31 37 41 43 47 53 "
     ]
    }
   ],
   "source": [
    "# Prime nos\n",
    "\n",
    "def isPrime(n):\n",
    "    if n==0 | n==1:\n",
    "        return False\n",
    "    for i in range(2,(n//2)+1):\n",
    "        if (n%i==0):\n",
    "            return False\n",
    "        \n",
    "    return True\n",
    "\n",
    "no = int(input('Enter the last no\\n'))\n",
    "for i in range(1,no+1):\n",
    "    if (isPrime(i)):\n",
    "        print(i,end=\" \")"
   ]
  },
  {
   "cell_type": "code",
   "execution_count": 1,
   "id": "da6b77a2",
   "metadata": {},
   "outputs": [
    {
     "data": {
      "text/plain": [
       "'C:\\\\Users\\\\sansk\\\\Python codes'"
      ]
     },
     "execution_count": 1,
     "metadata": {},
     "output_type": "execute_result"
    }
   ],
   "source": [
    "import os\n",
    "os.getcwd()"
   ]
  },
  {
   "cell_type": "code",
   "execution_count": 6,
   "id": "a5d98bcc",
   "metadata": {},
   "outputs": [
    {
     "data": {
      "text/plain": [
       "False"
      ]
     },
     "execution_count": 6,
     "metadata": {},
     "output_type": "execute_result"
    }
   ],
   "source": [
    "from datetime import datetime\n",
    "DATETIME_FORMAT= \"%Y-%m-%d %H:%M:%S\"\n",
    "def check_address_status(address):\n",
    "    current_date = datetime.now()\n",
    "    from_date = datetime.strptime(address.get('from_date'),DATETIME_FORMAT)\n",
    "    to_date = datetime.strptime(address.get('to_date'),DATETIME_FORMAT)\n",
    "\n",
    "    if from_date and not to_date:\n",
    "        if from_date <= current_date:\n",
    "            address['active'] = True\n",
    "        else:\n",
    "            address['active'] = False\n",
    "    elif from_date and to_date:\n",
    "        if from_date <= current_date <= to_date:\n",
    "            address['active'] = True\n",
    "        else:\n",
    "            address['active'] = False\n",
    "    else:\n",
    "        address['active'] = False\n",
    "    \n",
    "    return address['active']\n",
    "# Example usage:\n",
    "address = {\n",
    "    'from_date': \"2025-07-25 12:00:00\",\n",
    "    'to_date':  \"2026-07-25 12:00:00\"\n",
    "}\n",
    "\n",
    "check_address_status(address)\n",
    "\n"
   ]
  },
  {
   "cell_type": "code",
   "execution_count": null,
   "id": "7475f1fe",
   "metadata": {},
   "outputs": [],
   "source": []
  }
 ],
 "metadata": {
  "kernelspec": {
   "display_name": "Python 3 (ipykernel)",
   "language": "python",
   "name": "python3"
  },
  "language_info": {
   "codemirror_mode": {
    "name": "ipython",
    "version": 3
   },
   "file_extension": ".py",
   "mimetype": "text/x-python",
   "name": "python",
   "nbconvert_exporter": "python",
   "pygments_lexer": "ipython3",
   "version": "3.9.12"
  }
 },
 "nbformat": 4,
 "nbformat_minor": 5
}
